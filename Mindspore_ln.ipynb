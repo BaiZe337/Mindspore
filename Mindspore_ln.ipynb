{
 "cells": [
  {
   "cell_type": "code",
   "execution_count": 1,
   "id": "ffe88c59-62d7-40b5-9c5f-4dfd7e3f8fc1",
   "metadata": {},
   "outputs": [],
   "source": [
    "%matplotlib inline\n",
    "#导入相关依赖库\n",
    "import  os\n",
    "import numpy as np\n",
    "from matplotlib import pyplot as plt\n",
    "\n",
    "import mindspore as ms\n",
    "#context模块用于设置实验环境和实验设备\n",
    "import mindspore.context as context\n",
    "#dataset模块用于处理数据形成数据集\n",
    "import mindspore.dataset as ds\n",
    "#c_transforms模块用于转换数据类型\n",
    "import mindspore.dataset.transforms.c_transforms as C\n",
    "#vision.c_transforms模块用于转换图像，这是一个基于opencv的高级API\n",
    "import mindspore.dataset.vision.c_transforms as CV\n",
    "#导入Accuracy作为评价指标\n",
    "from mindspore.nn.metrics import Accuracy\n",
    "#nn中有各种神经网络层如：Dense，ReLu\n",
    "from mindspore import nn\n",
    "#Model用于创建模型对象，完成网络搭建和编译，并用于训练和评估\n",
    "from mindspore.train import Model\n",
    "#LossMonitor可以在训练过程中返回LOSS值作为监控指标\n",
    "from mindspore.train.callback import  LossMonitor\n",
    "#设定运行模式为动态图模式，并且运行设备为昇腾芯片\n",
    "context.set_context(mode=context.GRAPH_MODE, device_target='CPU') \n",
    "from mindspore.train.callback import ModelCheckpoint,CheckpointConfig\n",
    "from mindspore import load_checkpoint, load_param_into_net"
   ]
  },
  {
   "cell_type": "code",
   "execution_count": 2,
   "id": "1b1315e0-d5d8-49ad-a7a3-7a80009711be",
   "metadata": {},
   "outputs": [
    {
     "name": "stdout",
     "output_type": "stream",
     "text": [
      "训练数据集数量： 60000\n",
      "测试数据集数量： 10000\n",
      "<class 'dict'>\n",
      "图像长/宽/通道数： (28, 28, 1)\n",
      "一张图像的标签样式： 9\n"
     ]
    }
   ],
   "source": [
    "#MindSpore内置方法读取MNIST数据集\n",
    "ds_train = ds.MnistDataset(os.path.join(r'MNIST', \"D:/DL/MNIST/MNIST/train\"))\n",
    "ds_test = ds.MnistDataset(os.path.join(r'MNIST', \"D:/DL/MNIST/MNIST/test\")) \n",
    "\n",
    "print('训练数据集数量：',ds_train.get_dataset_size())\n",
    "print('测试数据集数量：',ds_test.get_dataset_size())\n",
    "# 该数据集可以通过create_dict_iterator()转换为迭代器形式，然后通过get_next()一个个输出样本\n",
    "image=ds_train.create_dict_iterator()._get_next()\n",
    "print(type(image))\n",
    "print('图像长/宽/通道数：',image['image'].shape)\n",
    "#一共10类，用0-9的数字表达类别。\n",
    "print('一张图像的标签样式：',image['label'])  "
   ]
  },
  {
   "cell_type": "code",
   "execution_count": 3,
   "id": "5e85c1bc-9e79-4695-adc7-741511530791",
   "metadata": {},
   "outputs": [],
   "source": [
    "DATA_DIR_TRAIN = \"D:/DL/MNIST/MNIST/train\" # 训练集信息\n",
    "DATA_DIR_TEST = \"D:/DL/MNIST/MNIST/test\" # 测试集信息"
   ]
  },
  {
   "cell_type": "code",
   "execution_count": 4,
   "id": "d56e623b-bd79-4829-8483-8e36675e2ec7",
   "metadata": {},
   "outputs": [],
   "source": [
    "def create_dataset(training=True, batch_size=128, resize=(28, 28),rescale=1/255, shift=-0.5, buffer_size=64):\n",
    "    ds = ms.dataset.MnistDataset(DATA_DIR_TRAIN if training else DATA_DIR_TEST)\n",
    "    \n",
    "    #定义改变形状、归一化和更改图片维度的操作。\n",
    "    #改为（28,28）的形状\n",
    "    resize_op = CV.Resize(resize)\n",
    "    #rescale方法可以对数据集进行归一化和标准化操作，这里就是将像素值归一到0和1之间，shift参数可以让值域偏移至-0.5和0.5之间\n",
    "    rescale_op = CV.Rescale(rescale, shift)\n",
    "    #由高度、宽度、深度改为深度、高度、宽度\n",
    "    hwc2chw_op = CV.HWC2CHW()\n",
    "    \n",
    "    # 利用map操作对原数据集进行调整\n",
    "    ds = ds.map(input_columns=\"image\", operations=[resize_op, rescale_op, hwc2chw_op])\n",
    "    ds = ds.map(input_columns=\"label\", operations=C.TypeCast(ms.int32))\n",
    "    #设定洗牌缓冲区的大小，从一定程度上控制打乱操作的混乱程度\n",
    "    ds = ds.shuffle(buffer_size=buffer_size)\n",
    "    #设定数据集的batch_size大小，并丢弃剩余的样本\n",
    "    ds = ds.batch(batch_size, drop_remainder=True)\n",
    "    \n",
    "    return ds"
   ]
  },
  {
   "cell_type": "code",
   "execution_count": 5,
   "id": "427643ad-4da0-42e8-a74b-5372b8379c76",
   "metadata": {},
   "outputs": [
    {
     "data": {
      "image/png": "[encoded data removed]",
      "text/plain": [
       "<Figure size 432x288 with 10 Axes>"
      ]
     },
     "metadata": {
      "needs_background": "light"
     },
     "output_type": "display_data"
    }
   ],
   "source": [
    "dataset_show = create_dataset(training=False)\n",
    "data = dataset_show.create_dict_iterator()._get_next()\n",
    "images = data['image'].asnumpy()\n",
    "labels = data['label'].asnumpy()\n",
    "\n",
    "for i in range(1,11):\n",
    "    plt.subplot(2, 5, i)\n",
    "    #利用squeeze方法去掉多余的一个维度\n",
    "    plt.imshow(np.squeeze(images[i]))\n",
    "    plt.title('Number: %s' % labels[i])\n",
    "    plt.xticks([])"
   ]
  },
  {
   "cell_type": "code",
   "execution_count": 6,
   "id": "53e78a7a-7ef6-436c-b905-c002a6313b5f",
   "metadata": {},
   "outputs": [],
   "source": [
    "#利用定义类的方式生成网络，Mindspore中定义网络需要继承nn.cell。在init方法中定义该网络需要的神经网络层\n",
    "#在construct方法中梳理神经网络层与层之间的关系。\n",
    "class ForwardNN(nn.Cell):      \n",
    "    def __init__(self):\n",
    "        super(ForwardNN, self).__init__()\n",
    "        self.flatten = nn.Flatten()\n",
    "        self.relu = nn.ReLU()\n",
    "        self.fc1 = nn.Dense(784, 512, activation='relu')\n",
    "        self.fc2 = nn.Dense(512, 256, activation='relu')\n",
    "        self.fc3 = nn.Dense(256, 128, activation='relu')\n",
    "        self.fc4 = nn.Dense(128, 64, activation='relu')\n",
    "        self.fc5 = nn.Dense(64, 32, activation='relu')\n",
    "        self.fc6 = nn.Dense(32, 10, activation='softmax')\n",
    "    \n",
    "    def construct(self, input_x):\n",
    "        output = self.flatten(input_x)\n",
    "        output = self.fc1(output)\n",
    "        output = self.fc2(output)\n",
    "        output = self.fc3(output)   \n",
    "        output = self.fc4(output)\n",
    "        output = self.fc5(output)\n",
    "        output = self.fc6(output)\n",
    "        return output "
   ]
  },
  {
   "cell_type": "code",
   "execution_count": 7,
   "id": "01de110c-6c24-49b8-9c2a-7afe16269fcc",
   "metadata": {},
   "outputs": [],
   "source": [
    "lr = 0.001\n",
    "num_epoch = 10\n",
    "momentum = 0.9\n",
    "\n",
    "net = ForwardNN()\n",
    "#定义loss函数，改函数不需要求导，可以给离散的标签值，且loss值为均值\n",
    "loss = nn.loss.SoftmaxCrossEntropyWithLogits( sparse=True, reduction='mean')\n",
    "#定义准确率为评价指标，用于评价模型\n",
    "metrics={\"Accuracy\": Accuracy()}\n",
    "#定义优化器为Adam优化器，并设定学习率\n",
    "opt = nn.Adam(net.trainable_params(), lr)"
   ]
  },
  {
   "cell_type": "code",
   "execution_count": 8,
   "id": "e733ec91-e259-4370-b674-43542a702170",
   "metadata": {},
   "outputs": [],
   "source": [
    "#生成验证集，验证机不需要训练，所以不需要repeat\n",
    "ds_eval = create_dataset(False, batch_size=32)\n",
    "#模型编译过程，将定义好的网络、loss函数、评价指标、优化器编译\n",
    "model = Model(net, loss, opt, metrics)"
   ]
  },
  {
   "cell_type": "code",
   "execution_count": 9,
   "id": "b7e9e27d-6447-42c2-b8e4-53e638c23df3",
   "metadata": {},
   "outputs": [],
   "source": [
    "config_ck = CheckpointConfig(save_checkpoint_steps=1875, keep_checkpoint_max=10)\n",
    "ckpt_cb = ModelCheckpoint(prefix='ForwardNN', directory='D:/DL/MNIST/Mindspore/model',config=config_ck)"
   ]
  },
  {
   "cell_type": "code",
   "execution_count": 10,
   "id": "99694190-8e9c-49f8-9d40-dc679e978c10",
   "metadata": {},
   "outputs": [
    {
     "name": "stderr",
     "output_type": "stream",
     "text": [
      "[WARNING] ME(20264:22596,MainProcess):2022-03-22-12:25:23.806.705 [mindspore\\train\\model.py:550] The CPU cannot support dataset sink mode currently.So the training process will be performed with dataset not sink.\n"
     ]
    },
    {
     "name": "stdout",
     "output_type": "stream",
     "text": [
      "============== Starting Training ==============\n",
      "epoch: 1 step: 1875, loss is 1.7574810981750488\n",
      "epoch: 2 step: 1875, loss is 1.6998945474624634\n",
      "epoch: 3 step: 1875, loss is 1.5861542224884033\n",
      "epoch: 4 step: 1875, loss is 1.6160986423492432\n",
      "epoch: 5 step: 1875, loss is 1.722794532775879\n",
      "epoch: 6 step: 1875, loss is 1.5227510929107666\n",
      "epoch: 7 step: 1875, loss is 1.5849040746688843\n",
      "epoch: 8 step: 1875, loss is 1.5549007654190063\n",
      "epoch: 9 step: 1875, loss is 1.5549014806747437\n",
      "epoch: 10 step: 1875, loss is 1.5236507654190063\n"
     ]
    }
   ],
   "source": [
    "#生成训练集\n",
    "ds_train = create_dataset(True, batch_size=32)\n",
    "print(\"============== Starting Training ==============\")\n",
    "#训练模型，用loss作为监控指标，并利用昇腾芯片的数据下沉特性进行训练\n",
    "model.train(num_epoch, ds_train,callbacks=[LossMonitor(1875), ckpt_cb],dataset_sink_mode=True)"
   ]
  },
  {
   "cell_type": "code",
   "execution_count": 11,
   "id": "b28659ec-879e-47eb-803f-d2acb39a36e0",
   "metadata": {},
   "outputs": [
    {
     "name": "stderr",
     "output_type": "stream",
     "text": [
      "[WARNING] ME(20264:22596,MainProcess):2022-03-22-12:33:29.853.157 [mindspore\\train\\model.py:968] CPU cannot support dataset sink mode currently.So the evaluating process will be performed with dataset non-sink mode.\n"
     ]
    },
    {
     "name": "stdout",
     "output_type": "stream",
     "text": [
      "{'Accuracy': 0.8895232371794872}\n"
     ]
    }
   ],
   "source": [
    "#使用测试集评估模型，打印总体准确率\n",
    "metrics_result=model.eval(ds_eval)\n",
    "print(metrics_result)"
   ]
  },
  {
   "cell_type": "code",
   "execution_count": 12,
   "id": "c8094cc1-ac06-4395-a423-da13b000bacb",
   "metadata": {},
   "outputs": [
    {
     "name": "stderr",
     "output_type": "stream",
     "text": [
      "[WARNING] ME(20264:22596,MainProcess):2022-03-22-12:33:30.680.959 [mindspore\\common\\parameter.py:338] The parameter definition is deprecated.\n",
      "Please set a unique name for the parameter 'Parameter (name=Parameter, shape=(512, 784), dtype=Float32, requires_grad=True)'.\n",
      "[WARNING] ME(20264:22596,MainProcess):2022-03-22-12:33:30.680.959 [mindspore\\common\\parameter.py:338] The parameter definition is deprecated.\n",
      "Please set a unique name for the parameter 'Parameter (name=Parameter, shape=(512,), dtype=Float32, requires_grad=True)'.\n",
      "[WARNING] ME(20264:22596,MainProcess):2022-03-22-12:33:30.695.968 [mindspore\\common\\parameter.py:338] The parameter definition is deprecated.\n",
      "Please set a unique name for the parameter 'Parameter (name=Parameter, shape=(256, 512), dtype=Float32, requires_grad=True)'.\n",
      "[WARNING] ME(20264:22596,MainProcess):2022-03-22-12:33:30.695.968 [mindspore\\common\\parameter.py:338] The parameter definition is deprecated.\n",
      "Please set a unique name for the parameter 'Parameter (name=Parameter, shape=(256,), dtype=Float32, requires_grad=True)'.\n",
      "[WARNING] ME(20264:22596,MainProcess):2022-03-22-12:33:30.698.393 [mindspore\\common\\parameter.py:338] The parameter definition is deprecated.\n",
      "Please set a unique name for the parameter 'Parameter (name=Parameter, shape=(128, 256), dtype=Float32, requires_grad=True)'.\n",
      "[WARNING] ME(20264:22596,MainProcess):2022-03-22-12:33:30.699.392 [mindspore\\common\\parameter.py:338] The parameter definition is deprecated.\n",
      "Please set a unique name for the parameter 'Parameter (name=Parameter, shape=(128,), dtype=Float32, requires_grad=True)'.\n",
      "[WARNING] ME(20264:22596,MainProcess):2022-03-22-12:33:30.699.392 [mindspore\\common\\parameter.py:338] The parameter definition is deprecated.\n",
      "Please set a unique name for the parameter 'Parameter (name=Parameter, shape=(64, 128), dtype=Float32, requires_grad=True)'.\n",
      "[WARNING] ME(20264:22596,MainProcess):2022-03-22-12:33:30.700.393 [mindspore\\common\\parameter.py:338] The parameter definition is deprecated.\n",
      "Please set a unique name for the parameter 'Parameter (name=Parameter, shape=(64,), dtype=Float32, requires_grad=True)'.\n",
      "[WARNING] ME(20264:22596,MainProcess):2022-03-22-12:33:30.701.386 [mindspore\\common\\parameter.py:338] The parameter definition is deprecated.\n",
      "Please set a unique name for the parameter 'Parameter (name=Parameter, shape=(32, 64), dtype=Float32, requires_grad=True)'.\n",
      "[WARNING] ME(20264:22596,MainProcess):2022-03-22-12:33:30.703.381 [mindspore\\common\\parameter.py:338] The parameter definition is deprecated.\n",
      "Please set a unique name for the parameter 'Parameter (name=Parameter, shape=(32,), dtype=Float32, requires_grad=True)'.\n",
      "[WARNING] ME(20264:22596,MainProcess):2022-03-22-12:33:30.704.377 [mindspore\\common\\parameter.py:338] The parameter definition is deprecated.\n",
      "Please set a unique name for the parameter 'Parameter (name=Parameter, shape=(10, 32), dtype=Float32, requires_grad=True)'.\n",
      "[WARNING] ME(20264:22596,MainProcess):2022-03-22-12:33:30.705.375 [mindspore\\common\\parameter.py:338] The parameter definition is deprecated.\n",
      "Please set a unique name for the parameter 'Parameter (name=Parameter, shape=(10,), dtype=Float32, requires_grad=True)'.\n",
      "[WARNING] ME(20264:22596,MainProcess):2022-03-22-12:33:30.708.367 [mindspore\\train\\model.py:968] CPU cannot support dataset sink mode currently.So the evaluating process will be performed with dataset non-sink mode.\n"
     ]
    },
    {
     "data": {
      "text/plain": [
       "{'accuracy': 0.8662860576923077,\n",
       " 'loss': 1.5948245861591437,\n",
       " 'precision': array([0.97052632, 0.92174629, 0.94485684, 0.92      , 0.87256809,\n",
       "        0.54707379, 0.97780374, 0.90363815, 0.95348837, 0.88777555]),\n",
       " 'recall': array([0.94564103, 0.98590308, 0.86504854, 0.61607143, 0.91344196,\n",
       "        0.96520763, 0.8736952 , 0.89833822, 0.71634121, 0.87809713]),\n",
       " 'f1_score': array([0.95792208, 0.95274585, 0.90319311, 0.73796791, 0.89253731,\n",
       "        0.69833536, 0.92282249, 0.90098039, 0.81807512, 0.88290982])}"
      ]
     },
     "execution_count": 12,
     "metadata": {},
     "output_type": "execute_result"
    }
   ],
   "source": [
    "net_test = ForwardNN()\n",
    "load_checkpoint('D:/DL/MNIST/Mindspore/model/ForwardNN-5_1875.ckpt',net = net_test)\n",
    "Copymetrics = {\n",
    "    'accuracy': nn.Accuracy(),\n",
    "    'loss': nn.Loss(),\n",
    "    'precision': nn.Precision(),\n",
    "    'recall': nn.Recall(),\n",
    "    'f1_score': nn.F1()\n",
    "}\n",
    "model_test = Model(net_test, loss,metrics=Copymetrics)\n",
    "acc = model_test.eval(ds_eval)\n",
    "acc"
   ]
  },
  {
   "cell_type": "code",
   "execution_count": null,
   "id": "ed1c4621-b271-4aa2-9781-4144dd1daf57",
   "metadata": {},
   "outputs": [],
   "source": []
  }
 ],
 "metadata": {
  "kernelspec": {
   "display_name": "Python 3 (ipykernel)",
   "language": "python",
   "name": "python3"
  },
  "language_info": {
   "codemirror_mode": {
    "name": "ipython",
    "version": 3
   },
   "file_extension": ".py",
   "mimetype": "text/x-python",
   "name": "python",
   "nbconvert_exporter": "python",
   "pygments_lexer": "ipython3",
   "version": "3.7.5"
  }
 },
 "nbformat": 4,
 "nbformat_minor": 5
}
