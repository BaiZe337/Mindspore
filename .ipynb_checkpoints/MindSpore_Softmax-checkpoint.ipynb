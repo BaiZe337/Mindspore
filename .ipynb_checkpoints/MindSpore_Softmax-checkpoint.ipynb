{
 "cells": [
  {
   "cell_type": "code",
   "execution_count": 1,
   "id": "73a00eb2-27d8-4ade-82ad-6e6d10243742",
   "metadata": {},
   "outputs": [],
   "source": [
    "%matplotlib inline\n",
    "#导入相关依赖库\n",
    "import  os\n",
    "import numpy as np\n",
    "from matplotlib import pyplot as plt\n",
    "\n",
    "import mindspore as ms\n",
    "#context模块用于设置实验环境和实验设备\n",
    "import mindspore.context as context\n",
    "#dataset模块用于处理数据形成数据集\n",
    "import mindspore.dataset as ds\n",
    "#c_transforms模块用于转换数据类型\n",
    "import mindspore.dataset.transforms.c_transforms as C\n",
    "#vision.c_transforms模块用于转换图像，这是一个基于opencv的高级API\n",
    "import mindspore.dataset.vision.c_transforms as CV\n",
    "#导入Accuracy作为评价指标\n",
    "from mindspore.nn.metrics import Accuracy\n",
    "#nn中有各种神经网络层如：Dense，ReLu\n",
    "from mindspore import nn\n",
    "#Model用于创建模型对象，完成网络搭建和编译，并用于训练和评估\n",
    "from mindspore.train import Model\n",
    "#LossMonitor可以在训练过程中返回LOSS值作为监控指标\n",
    "from mindspore.train.callback import  LossMonitor\n",
    "#设定运行模式为动态图模式，并且运行设备为昇腾芯片\n",
    "context.set_context(mode=context.GRAPH_MODE, device_target='CPU') \n",
    "from mindspore.train.callback import ModelCheckpoint,CheckpointConfig\n",
    "from mindspore import load_checkpoint, load_param_into_net"
   ]
  },
  {
   "cell_type": "code",
   "execution_count": 2,
   "id": "e3329500-5470-4d1d-b032-1f0b20c4d650",
   "metadata": {},
   "outputs": [],
   "source": [
    "DATA_DIR_TRAIN = \"D:/DL/MNIST/MNIST/train\" # 训练集信息\n",
    "DATA_DIR_TEST = \"D:/DL/MNIST/MNIST/test\" # 测试集信息"
   ]
  },
  {
   "cell_type": "code",
   "execution_count": 3,
   "id": "80db8da0-4386-4e3b-8fe6-fbdbc1005b60",
   "metadata": {},
   "outputs": [],
   "source": [
    "def create_dataset(training=True, batch_size=128, resize=(28, 28),rescale=1/255, shift=-0.5, buffer_size=64):\n",
    "    ds = ms.dataset.MnistDataset(DATA_DIR_TRAIN if training else DATA_DIR_TEST)\n",
    "    \n",
    "    #定义改变形状、归一化和更改图片维度的操作。\n",
    "    #改为（28,28）的形状\n",
    "    resize_op = CV.Resize(resize)\n",
    "    #rescale方法可以对数据集进行归一化和标准化操作，这里就是将像素值归一到0和1之间，shift参数可以让值域偏移至-0.5和0.5之间\n",
    "    rescale_op = CV.Rescale(rescale, shift)\n",
    "    #由高度、宽度、深度改为深度、高度、宽度\n",
    "    hwc2chw_op = CV.HWC2CHW()\n",
    "    \n",
    "    # 利用map操作对原数据集进行调整\n",
    "    ds = ds.map(input_columns=\"image\", operations=[resize_op, rescale_op, hwc2chw_op])\n",
    "    ds = ds.map(input_columns=\"label\", operations=C.TypeCast(ms.int32))\n",
    "    #设定洗牌缓冲区的大小，从一定程度上控制打乱操作的混乱程度\n",
    "    ds = ds.shuffle(buffer_size=buffer_size)\n",
    "    #设定数据集的batch_size大小，并丢弃剩余的样本\n",
    "    ds = ds.batch(batch_size, drop_remainder=True)\n",
    "    \n",
    "    return ds"
   ]
  },
  {
   "cell_type": "code",
   "execution_count": 4,
   "id": "fea37245-8630-4260-b3b6-5d607243ac70",
   "metadata": {},
   "outputs": [],
   "source": [
    "#生成训练集\n",
    "ds_train = create_dataset(True, batch_size=32)\n",
    "#生成验证集，验证机不需要训练，所以不需要repeat\n",
    "ds_eval = create_dataset(False, batch_size=32)"
   ]
  },
  {
   "cell_type": "code",
   "execution_count": 6,
   "id": "8a74e64f-f9e9-4865-9265-f07277ea15e7",
   "metadata": {},
   "outputs": [],
   "source": [
    "class soft_max(nn.Cell):      \n",
    "    def __init__(self):\n",
    "        super(soft_max, self).__init__()\n",
    "        self.flatten = nn.Flatten()\n",
    "        self.Linear = nn.Dense(784,10)\n",
    "    \n",
    "    def construct(self, input_x):\n",
    "        output = self.flatten(input_x)\n",
    "        output = self.Linear(output)\n",
    "        return output "
   ]
  },
  {
   "cell_type": "code",
   "execution_count": 8,
   "id": "085f0c34-4a52-4a7c-9812-7eb7da24c10c",
   "metadata": {},
   "outputs": [],
   "source": [
    "lr = 0.001\n",
    "num_epoch = 10\n",
    "momentum = 0.9\n",
    "net = soft_max()\n",
    "loss = nn.loss.SoftmaxCrossEntropyWithLogits( sparse=True, reduction='mean')\n",
    "metrics={\"Accuracy\": Accuracy()}\n",
    "#定义优化器为Adam优化器，并设定学习率\n",
    "opt = nn.Adam(net.trainable_params(), lr)"
   ]
  },
  {
   "cell_type": "code",
   "execution_count": 9,
   "id": "a4c03ea6-d0ac-4021-b007-bd0d8123b387",
   "metadata": {},
   "outputs": [],
   "source": [
    "model = Model(net, loss, opt, metrics)"
   ]
  },
  {
   "cell_type": "code",
   "execution_count": 10,
   "id": "29716eb3-ee81-4fd5-829c-50220da2d6d8",
   "metadata": {},
   "outputs": [],
   "source": [
    "config_ck = CheckpointConfig(save_checkpoint_steps=1875, keep_checkpoint_max=10)\n",
    "ckpt_cb = ModelCheckpoint(prefix='ForwardNN', directory='D:/DL/MNIST/Mindspore/model',config=config_ck)"
   ]
  },
  {
   "cell_type": "code",
   "execution_count": 11,
   "id": "69f25940-a26d-4125-94a8-80b13ae329df",
   "metadata": {},
   "outputs": [
    {
     "name": "stderr",
     "output_type": "stream",
     "text": [
      "[WARNING] ME(12604:19792,MainProcess):2022-03-22-13:13:09.700.011 [mindspore\\train\\model.py:550] The CPU cannot support dataset sink mode currently.So the training process will be performed with dataset not sink.\n"
     ]
    },
    {
     "name": "stdout",
     "output_type": "stream",
     "text": [
      "epoch: 1 step: 1875, loss is 0.17323295772075653\n",
      "epoch: 2 step: 1875, loss is 0.09796681255102158\n",
      "epoch: 3 step: 1875, loss is 0.3955184519290924\n",
      "epoch: 4 step: 1875, loss is 0.4463110864162445\n",
      "epoch: 5 step: 1875, loss is 0.32775571942329407\n",
      "epoch: 6 step: 1875, loss is 0.23661170899868011\n",
      "epoch: 7 step: 1875, loss is 0.24752239882946014\n",
      "epoch: 8 step: 1875, loss is 0.16208776831626892\n",
      "epoch: 9 step: 1875, loss is 0.3200516402721405\n",
      "epoch: 10 step: 1875, loss is 0.289153516292572\n"
     ]
    }
   ],
   "source": [
    "model.train(num_epoch, ds_train,callbacks=[LossMonitor(1875), ckpt_cb],dataset_sink_mode=True)"
   ]
  },
  {
   "cell_type": "code",
   "execution_count": 12,
   "id": "0f859016-b8f5-46e6-8114-34cda1d1b664",
   "metadata": {},
   "outputs": [
    {
     "name": "stderr",
     "output_type": "stream",
     "text": [
      "[WARNING] ME(12604:19792,MainProcess):2022-03-22-13:13:43.603.40 [mindspore\\train\\model.py:968] CPU cannot support dataset sink mode currently.So the evaluating process will be performed with dataset non-sink mode.\n"
     ]
    },
    {
     "name": "stdout",
     "output_type": "stream",
     "text": [
      "{'Accuracy': 0.9197716346153846}\n"
     ]
    }
   ],
   "source": [
    "#使用测试集评估模型，打印总体准确率\n",
    "metrics_result=model.eval(ds_eval)\n",
    "print(metrics_result)"
   ]
  },
  {
   "cell_type": "code",
   "execution_count": 9,
   "id": "78bf2061-090d-4a8f-a220-e86362ea2a78",
   "metadata": {},
   "outputs": [
    {
     "name": "stderr",
     "output_type": "stream",
     "text": [
      "[WARNING] ME(8844:7500,MainProcess):2022-03-22-13:29:57.355.218 [mindspore\\common\\parameter.py:338] The parameter definition is deprecated.\n",
      "Please set a unique name for the parameter 'Parameter (name=Parameter, shape=(10, 784), dtype=Float32, requires_grad=True)'.\n",
      "[WARNING] ME(8844:7500,MainProcess):2022-03-22-13:29:57.356.216 [mindspore\\common\\parameter.py:338] The parameter definition is deprecated.\n",
      "Please set a unique name for the parameter 'Parameter (name=Parameter, shape=(10,), dtype=Float32, requires_grad=True)'.\n",
      "[WARNING] ME(8844:7500,MainProcess):2022-03-22-13:29:57.726.116 [mindspore\\train\\model.py:968] CPU cannot support dataset sink mode currently.So the evaluating process will be performed with dataset non-sink mode.\n"
     ]
    },
    {
     "data": {
      "text/plain": [
       "{'accuracy': 0.91796875,\n",
       " 'loss': 0.29136004130570936,\n",
       " 'precision': array([0.96236012, 0.96173913, 0.92323232, 0.88610039, 0.89278752,\n",
       "        0.88154897, 0.96612022, 0.93465347, 0.8467433 , 0.92331933]),\n",
       " 'recall': array([0.96728016, 0.97530864, 0.88651794, 0.91071429, 0.93660532,\n",
       "        0.86966292, 0.92275574, 0.91828794, 0.90946502, 0.87288977]),\n",
       " 'f1_score': array([0.96481387, 0.96847636, 0.90450272, 0.89823875, 0.91417166,\n",
       "        0.87556561, 0.9439402 , 0.92639843, 0.87698413, 0.89739663])}"
      ]
     },
     "execution_count": 9,
     "metadata": {},
     "output_type": "execute_result"
    }
   ],
   "source": [
    "net_test = soft_max()\n",
    "load_checkpoint('D:/DL/MNIST/Mindspore/model/ForwardNN_1-8_1875.ckpt',net = net_test)\n",
    "Copymetrics = {\n",
    "    'accuracy': nn.Accuracy(),\n",
    "    'loss': nn.Loss(),\n",
    "    'precision': nn.Precision(),\n",
    "    'recall': nn.Recall(),\n",
    "    'f1_score': nn.F1()\n",
    "}\n",
    "model_test = Model(net_test, loss,metrics=Copymetrics)\n",
    "acc = model_test.eval(ds_eval)\n",
    "acc"
   ]
  },
  {
   "cell_type": "code",
   "execution_count": null,
   "id": "e9673607-bbf1-4b29-a73c-dbb21c8207f2",
   "metadata": {},
   "outputs": [],
   "source": []
  }
 ],
 "metadata": {
  "kernelspec": {
   "display_name": "Python 3 (ipykernel)",
   "language": "python",
   "name": "python3"
  },
  "language_info": {
   "codemirror_mode": {
    "name": "ipython",
    "version": 3
   },
   "file_extension": ".py",
   "mimetype": "text/x-python",
   "name": "python",
   "nbconvert_exporter": "python",
   "pygments_lexer": "ipython3",
   "version": "3.7.5"
  }
 },
 "nbformat": 4,
 "nbformat_minor": 5
}
